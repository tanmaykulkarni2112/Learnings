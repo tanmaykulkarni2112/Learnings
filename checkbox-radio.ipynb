import tkinter as tk
from tkinter import messagebox
from tkinter import *
root = tk.Tk()
root.title('button')
root.geometry('300x400')
def fun():
    messagebox.showinfo("success", "The operation was successful ")
b1 = tk.Button(root, text = "OK", command = fun)
b1.place(x = 100 , y = 200)

check_var = IntVar()
check1 = tk.Checkbutton(root, text = "Male", variable = check_var, onvalue = 1, offvalue = 0)
check1.place(x= 200, y = 250)



radio_var = StringVar()
radio1 = tk.Radiobutton(root, text = "FE", variable = radio_var, value = "First year")
radio1.place(x=100, y= 300)

root.mainloop()
